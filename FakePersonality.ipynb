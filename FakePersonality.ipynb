{
 "cells": [
  {
   "cell_type": "markdown",
   "metadata": {},
   "source": [
    "## FakePersonality \n",
    "\n",
    "A tool to classify Twitter users, vulnerable to misinformation, based on their [_Personality Traits_](https://www.simplypsychology.org/big-five-personality.html) and [_Basic Human Values_](https://i2s.anu.edu.au/resources/schwartz-theory-basic-values).\n",
    "\n",
    "Scores are measured using Natural Language Processing approaches on the basis of our previous research: [1](https://dl.acm.org/doi/10.1145/3341105.3373954) and [2](https://www.mdpi.com/2078-2489/11/4/179).\n",
    "\n",
    "[Dataset paper](https://arxiv.org/pdf/2006.00885.pdf)\n",
    "[Dataset Repo](https://github.com/cuilimeng/CoAID)\n",
    "_This code is written in python >3.7*._"
   ]
  },
  {
   "cell_type": "code",
   "execution_count": 1,
   "metadata": {
    "collapsed": true
   },
   "outputs": [
    {
     "data": {
      "text/html": [
       "<div>\n",
       "<style scoped>\n",
       "    .dataframe tbody tr th:only-of-type {\n",
       "        vertical-align: middle;\n",
       "    }\n",
       "\n",
       "    .dataframe tbody tr th {\n",
       "        vertical-align: top;\n",
       "    }\n",
       "\n",
       "    .dataframe thead th {\n",
       "        text-align: right;\n",
       "    }\n",
       "</style>\n",
       "<table border=\"1\" class=\"dataframe\">\n",
       "  <thead>\n",
       "    <tr style=\"text-align: right;\">\n",
       "      <th></th>\n",
       "      <th>index</th>\n",
       "      <th>tweet_id</th>\n",
       "    </tr>\n",
       "  </thead>\n",
       "  <tbody>\n",
       "    <tr>\n",
       "      <th>0</th>\n",
       "      <td>100001</td>\n",
       "      <td>1252630938770649089</td>\n",
       "    </tr>\n",
       "    <tr>\n",
       "      <th>1</th>\n",
       "      <td>100001</td>\n",
       "      <td>1243968198111789058</td>\n",
       "    </tr>\n",
       "    <tr>\n",
       "      <th>2</th>\n",
       "      <td>100001</td>\n",
       "      <td>1242474839966765056</td>\n",
       "    </tr>\n",
       "    <tr>\n",
       "      <th>3</th>\n",
       "      <td>100001</td>\n",
       "      <td>1242461115616866304</td>\n",
       "    </tr>\n",
       "    <tr>\n",
       "      <th>4</th>\n",
       "      <td>100001</td>\n",
       "      <td>1242400142335983619</td>\n",
       "    </tr>\n",
       "  </tbody>\n",
       "</table>\n",
       "</div>"
      ],
      "text/plain": [
       "    index             tweet_id\n",
       "0  100001  1252630938770649089\n",
       "1  100001  1243968198111789058\n",
       "2  100001  1242474839966765056\n",
       "3  100001  1242461115616866304\n",
       "4  100001  1242400142335983619"
      ]
     },
     "execution_count": 1,
     "metadata": {},
     "output_type": "execute_result"
    }
   ],
   "source": [
    "import pandas as pd\n",
    "claim_fake_tweets_df = pd.read_csv(\"../CoAID/ClaimFakeCOVID-19_tweets.csv\")\n",
    "claim_fake_tweets_df.head()"
   ]
  },
  {
   "cell_type": "code",
   "execution_count": 5,
   "metadata": {
    "collapsed": true
   },
   "outputs": [
    {
     "data": {
      "text/plain": [
       "(457, 2)"
      ]
     },
     "execution_count": 5,
     "metadata": {},
     "output_type": "execute_result"
    }
   ],
   "source": [
    "claim_fake_tweets_df.shape"
   ]
  },
  {
   "cell_type": "code",
   "execution_count": 8,
   "metadata": {
    "collapsed": true
   },
   "outputs": [
    {
     "data": {
      "text/html": [
       "<div>\n",
       "<style scoped>\n",
       "    .dataframe tbody tr th:only-of-type {\n",
       "        vertical-align: middle;\n",
       "    }\n",
       "\n",
       "    .dataframe tbody tr th {\n",
       "        vertical-align: top;\n",
       "    }\n",
       "\n",
       "    .dataframe thead th {\n",
       "        text-align: right;\n",
       "    }\n",
       "</style>\n",
       "<table border=\"1\" class=\"dataframe\">\n",
       "  <thead>\n",
       "    <tr style=\"text-align: right;\">\n",
       "      <th></th>\n",
       "      <th>news_id</th>\n",
       "      <th>tweet_id</th>\n",
       "      <th>reply_id</th>\n",
       "    </tr>\n",
       "  </thead>\n",
       "  <tbody>\n",
       "    <tr>\n",
       "      <th>0</th>\n",
       "      <td>100001</td>\n",
       "      <td>1242474839966765056</td>\n",
       "      <td>1242474835512446976</td>\n",
       "    </tr>\n",
       "    <tr>\n",
       "      <th>1</th>\n",
       "      <td>100001</td>\n",
       "      <td>1242474839966765056</td>\n",
       "      <td>1242474843137703938</td>\n",
       "    </tr>\n",
       "    <tr>\n",
       "      <th>2</th>\n",
       "      <td>100001</td>\n",
       "      <td>1242400142335983619</td>\n",
       "      <td>1242388627943878657</td>\n",
       "    </tr>\n",
       "    <tr>\n",
       "      <th>3</th>\n",
       "      <td>100001</td>\n",
       "      <td>1242400142335983619</td>\n",
       "      <td>1242400453700096001</td>\n",
       "    </tr>\n",
       "    <tr>\n",
       "      <th>4</th>\n",
       "      <td>100003</td>\n",
       "      <td>1248606541793488896</td>\n",
       "      <td>1248609022841729028</td>\n",
       "    </tr>\n",
       "  </tbody>\n",
       "</table>\n",
       "</div>"
      ],
      "text/plain": [
       "   news_id             tweet_id             reply_id\n",
       "0   100001  1242474839966765056  1242474835512446976\n",
       "1   100001  1242474839966765056  1242474843137703938\n",
       "2   100001  1242400142335983619  1242388627943878657\n",
       "3   100001  1242400142335983619  1242400453700096001\n",
       "4   100003  1248606541793488896  1248609022841729028"
      ]
     },
     "execution_count": 8,
     "metadata": {},
     "output_type": "execute_result"
    }
   ],
   "source": [
    "claim_fake_replies_df = pd.read_csv(\"../CoAID/ClaimFakeCOVID-19_tweets_replies.csv\")\n",
    "claim_fake_replies_df.head()"
   ]
  },
  {
   "cell_type": "code",
   "execution_count": 9,
   "metadata": {
    "collapsed": true
   },
   "outputs": [
    {
     "data": {
      "text/plain": [
       "(623, 3)"
      ]
     },
     "execution_count": 9,
     "metadata": {},
     "output_type": "execute_result"
    }
   ],
   "source": [
    "claim_fake_replies_df.shape"
   ]
  },
  {
   "cell_type": "code",
   "execution_count": 10,
   "metadata": {
    "collapsed": true
   },
   "outputs": [
    {
     "data": {
      "text/html": [
       "<div>\n",
       "<style scoped>\n",
       "    .dataframe tbody tr th:only-of-type {\n",
       "        vertical-align: middle;\n",
       "    }\n",
       "\n",
       "    .dataframe tbody tr th {\n",
       "        vertical-align: top;\n",
       "    }\n",
       "\n",
       "    .dataframe thead th {\n",
       "        text-align: right;\n",
       "    }\n",
       "</style>\n",
       "<table border=\"1\" class=\"dataframe\">\n",
       "  <thead>\n",
       "    <tr style=\"text-align: right;\">\n",
       "      <th></th>\n",
       "      <th>Unnamed: 0</th>\n",
       "      <th>fact_check_url</th>\n",
       "      <th>news_url</th>\n",
       "      <th>title</th>\n",
       "    </tr>\n",
       "  </thead>\n",
       "  <tbody>\n",
       "    <tr>\n",
       "      <th>0</th>\n",
       "      <td>100000</td>\n",
       "      <td>medicalnewstoday.com</td>\n",
       "      <td>https://www.medicalnewstoday.com/articles/coro...</td>\n",
       "      <td>\"Spraying chlorine or alcohol on the skin kill...</td>\n",
       "    </tr>\n",
       "    <tr>\n",
       "      <th>1</th>\n",
       "      <td>100001</td>\n",
       "      <td>medicalnewstoday.com</td>\n",
       "      <td>https://www.medicalnewstoday.com/articles/coro...</td>\n",
       "      <td>\"Only older adults and young people are at risk\"</td>\n",
       "    </tr>\n",
       "    <tr>\n",
       "      <th>2</th>\n",
       "      <td>100002</td>\n",
       "      <td>medicalnewstoday.com</td>\n",
       "      <td>https://www.medicalnewstoday.com/articles/coro...</td>\n",
       "      <td>\"Children cannot get COVID-19\"</td>\n",
       "    </tr>\n",
       "    <tr>\n",
       "      <th>3</th>\n",
       "      <td>100003</td>\n",
       "      <td>medicalnewstoday.com</td>\n",
       "      <td>https://www.medicalnewstoday.com/articles/coro...</td>\n",
       "      <td>\"COVID-19 is just like the flu\"</td>\n",
       "    </tr>\n",
       "    <tr>\n",
       "      <th>4</th>\n",
       "      <td>100004</td>\n",
       "      <td>medicalnewstoday.com</td>\n",
       "      <td>https://www.medicalnewstoday.com/articles/coro...</td>\n",
       "      <td>\"Everyone with COVID-19 dies\"</td>\n",
       "    </tr>\n",
       "  </tbody>\n",
       "</table>\n",
       "</div>"
      ],
      "text/plain": [
       "   Unnamed: 0        fact_check_url  \\\n",
       "0      100000  medicalnewstoday.com   \n",
       "1      100001  medicalnewstoday.com   \n",
       "2      100002  medicalnewstoday.com   \n",
       "3      100003  medicalnewstoday.com   \n",
       "4      100004  medicalnewstoday.com   \n",
       "\n",
       "                                            news_url  \\\n",
       "0  https://www.medicalnewstoday.com/articles/coro...   \n",
       "1  https://www.medicalnewstoday.com/articles/coro...   \n",
       "2  https://www.medicalnewstoday.com/articles/coro...   \n",
       "3  https://www.medicalnewstoday.com/articles/coro...   \n",
       "4  https://www.medicalnewstoday.com/articles/coro...   \n",
       "\n",
       "                                               title  \n",
       "0  \"Spraying chlorine or alcohol on the skin kill...  \n",
       "1   \"Only older adults and young people are at risk\"  \n",
       "2                     \"Children cannot get COVID-19\"  \n",
       "3                    \"COVID-19 is just like the flu\"  \n",
       "4                      \"Everyone with COVID-19 dies\"  "
      ]
     },
     "execution_count": 10,
     "metadata": {},
     "output_type": "execute_result"
    }
   ],
   "source": [
    "claim_df = pd.read_csv(\"../CoAID/ClaimFakeCOVID-19.csv\")\n",
    "claim_df.head()"
   ]
  },
  {
   "cell_type": "markdown",
   "metadata": {},
   "source": [
    "In the collection of claims, the first column is the misleading named news_id, instead it should be named claim_id. In fact as you can see by the numbering, it starts from 100000."
   ]
  },
  {
   "cell_type": "code",
   "execution_count": 11,
   "metadata": {
    "collapsed": true
   },
   "outputs": [
    {
     "data": {
      "text/html": [
       "<div>\n",
       "<style scoped>\n",
       "    .dataframe tbody tr th:only-of-type {\n",
       "        vertical-align: middle;\n",
       "    }\n",
       "\n",
       "    .dataframe tbody tr th {\n",
       "        vertical-align: top;\n",
       "    }\n",
       "\n",
       "    .dataframe thead th {\n",
       "        text-align: right;\n",
       "    }\n",
       "</style>\n",
       "<table border=\"1\" class=\"dataframe\">\n",
       "  <thead>\n",
       "    <tr style=\"text-align: right;\">\n",
       "      <th></th>\n",
       "      <th>Unnamed: 0</th>\n",
       "      <th>type</th>\n",
       "      <th>fact_check_url</th>\n",
       "      <th>archieve</th>\n",
       "      <th>news_url</th>\n",
       "      <th>news_url2</th>\n",
       "      <th>news_url3</th>\n",
       "      <th>news_url4</th>\n",
       "      <th>news_url5</th>\n",
       "      <th>title</th>\n",
       "      <th>newstitle</th>\n",
       "      <th>content</th>\n",
       "      <th>abstract</th>\n",
       "      <th>publish_date</th>\n",
       "      <th>meta_keywords</th>\n",
       "    </tr>\n",
       "  </thead>\n",
       "  <tbody>\n",
       "    <tr>\n",
       "      <th>0</th>\n",
       "      <td>0</td>\n",
       "      <td>post</td>\n",
       "      <td>https://factcheck.afp.com/false-advice-refusin...</td>\n",
       "      <td>https://perma.cc/J4N6-39D5</td>\n",
       "      <td>https://www.facebook.com/photo.php?fbid=551960...</td>\n",
       "      <td>NaN</td>\n",
       "      <td>NaN</td>\n",
       "      <td>NaN</td>\n",
       "      <td>NaN</td>\n",
       "      <td>Facebook posts shared in at least three countr...</td>\n",
       "      <td>NaN</td>\n",
       "      <td>NaN</td>\n",
       "      <td>NaN</td>\n",
       "      <td>NaN</td>\n",
       "      <td>NaN</td>\n",
       "    </tr>\n",
       "    <tr>\n",
       "      <th>1</th>\n",
       "      <td>1</td>\n",
       "      <td>article</td>\n",
       "      <td>https://www.politifact.com/factchecks/2020/apr...</td>\n",
       "      <td>NaN</td>\n",
       "      <td>http://legis.wisconsin.gov/assembly/republican...</td>\n",
       "      <td>NaN</td>\n",
       "      <td>NaN</td>\n",
       "      <td>NaN</td>\n",
       "      <td>NaN</td>\n",
       "      <td>Wisconsin is Òclearly seeing a decline in COVI...</td>\n",
       "      <td>\"Wisconsin Legislature Takes Gov. Evers to Court\"</td>\n",
       "      <td>speaker robin vos r rochester and senate major...</td>\n",
       "      <td>NaN</td>\n",
       "      <td>NaN</td>\n",
       "      <td>\"\"</td>\n",
       "    </tr>\n",
       "    <tr>\n",
       "      <th>2</th>\n",
       "      <td>2</td>\n",
       "      <td>post</td>\n",
       "      <td>https://factcheck.afp.com/posts-claim-children...</td>\n",
       "      <td>https://perma.cc/V4HX-M2XJ</td>\n",
       "      <td>https://www.facebook.com/iAmJessenia/photos/a....</td>\n",
       "      <td>NaN</td>\n",
       "      <td>NaN</td>\n",
       "      <td>NaN</td>\n",
       "      <td>NaN</td>\n",
       "      <td>Facebook posts claim a child who is infected w...</td>\n",
       "      <td>NaN</td>\n",
       "      <td>NaN</td>\n",
       "      <td>NaN</td>\n",
       "      <td>NaN</td>\n",
       "      <td>NaN</td>\n",
       "    </tr>\n",
       "    <tr>\n",
       "      <th>3</th>\n",
       "      <td>3</td>\n",
       "      <td>post</td>\n",
       "      <td>https://checkyourfact.com/2020/04/20/fact-chec...</td>\n",
       "      <td>NaN</td>\n",
       "      <td>https://www.facebook.com/kokernagnews/photos/a...</td>\n",
       "      <td>NaN</td>\n",
       "      <td>NaN</td>\n",
       "      <td>NaN</td>\n",
       "      <td>NaN</td>\n",
       "      <td>IndiaÕs Ministry of Home Affairs banning citiz...</td>\n",
       "      <td>NaN</td>\n",
       "      <td>NaN</td>\n",
       "      <td>NaN</td>\n",
       "      <td>NaN</td>\n",
       "      <td>NaN</td>\n",
       "    </tr>\n",
       "    <tr>\n",
       "      <th>4</th>\n",
       "      <td>5</td>\n",
       "      <td>post</td>\n",
       "      <td>https://checkyourfact.com/2020/04/20/fact-chec...</td>\n",
       "      <td>NaN</td>\n",
       "      <td>https://www.facebook.com/photo.php?fbid=102193...</td>\n",
       "      <td>NaN</td>\n",
       "      <td>NaN</td>\n",
       "      <td>NaN</td>\n",
       "      <td>NaN</td>\n",
       "      <td>42 Democratic senators, plus two Independents,...</td>\n",
       "      <td>NaN</td>\n",
       "      <td>NaN</td>\n",
       "      <td>NaN</td>\n",
       "      <td>NaN</td>\n",
       "      <td>NaN</td>\n",
       "    </tr>\n",
       "  </tbody>\n",
       "</table>\n",
       "</div>"
      ],
      "text/plain": [
       "   Unnamed: 0     type                                     fact_check_url  \\\n",
       "0           0     post  https://factcheck.afp.com/false-advice-refusin...   \n",
       "1           1  article  https://www.politifact.com/factchecks/2020/apr...   \n",
       "2           2     post  https://factcheck.afp.com/posts-claim-children...   \n",
       "3           3     post  https://checkyourfact.com/2020/04/20/fact-chec...   \n",
       "4           5     post  https://checkyourfact.com/2020/04/20/fact-chec...   \n",
       "\n",
       "                     archieve  \\\n",
       "0  https://perma.cc/J4N6-39D5   \n",
       "1                         NaN   \n",
       "2  https://perma.cc/V4HX-M2XJ   \n",
       "3                         NaN   \n",
       "4                         NaN   \n",
       "\n",
       "                                            news_url news_url2 news_url3  \\\n",
       "0  https://www.facebook.com/photo.php?fbid=551960...       NaN       NaN   \n",
       "1  http://legis.wisconsin.gov/assembly/republican...       NaN       NaN   \n",
       "2  https://www.facebook.com/iAmJessenia/photos/a....       NaN       NaN   \n",
       "3  https://www.facebook.com/kokernagnews/photos/a...       NaN       NaN   \n",
       "4  https://www.facebook.com/photo.php?fbid=102193...       NaN       NaN   \n",
       "\n",
       "  news_url4 news_url5                                              title  \\\n",
       "0       NaN       NaN  Facebook posts shared in at least three countr...   \n",
       "1       NaN       NaN  Wisconsin is Òclearly seeing a decline in COVI...   \n",
       "2       NaN       NaN  Facebook posts claim a child who is infected w...   \n",
       "3       NaN       NaN  IndiaÕs Ministry of Home Affairs banning citiz...   \n",
       "4       NaN       NaN  42 Democratic senators, plus two Independents,...   \n",
       "\n",
       "                                           newstitle  \\\n",
       "0                                                NaN   \n",
       "1  \"Wisconsin Legislature Takes Gov. Evers to Court\"   \n",
       "2                                                NaN   \n",
       "3                                                NaN   \n",
       "4                                                NaN   \n",
       "\n",
       "                                             content abstract publish_date  \\\n",
       "0                                                NaN      NaN          NaN   \n",
       "1  speaker robin vos r rochester and senate major...      NaN          NaN   \n",
       "2                                                NaN      NaN          NaN   \n",
       "3                                                NaN      NaN          NaN   \n",
       "4                                                NaN      NaN          NaN   \n",
       "\n",
       "  meta_keywords  \n",
       "0           NaN  \n",
       "1            \"\"  \n",
       "2           NaN  \n",
       "3           NaN  \n",
       "4           NaN  "
      ]
     },
     "execution_count": 11,
     "metadata": {},
     "output_type": "execute_result"
    }
   ],
   "source": [
    "news_df = pd.read_csv(\"../CoAID/NewsFakeCOVID-19.csv\")\n",
    "news_df.head()"
   ]
  },
  {
   "cell_type": "code",
   "execution_count": 12,
   "metadata": {
    "collapsed": true
   },
   "outputs": [
    {
     "data": {
      "text/html": [
       "<div>\n",
       "<style scoped>\n",
       "    .dataframe tbody tr th:only-of-type {\n",
       "        vertical-align: middle;\n",
       "    }\n",
       "\n",
       "    .dataframe tbody tr th {\n",
       "        vertical-align: top;\n",
       "    }\n",
       "\n",
       "    .dataframe thead th {\n",
       "        text-align: right;\n",
       "    }\n",
       "</style>\n",
       "<table border=\"1\" class=\"dataframe\">\n",
       "  <thead>\n",
       "    <tr style=\"text-align: right;\">\n",
       "      <th></th>\n",
       "      <th>index</th>\n",
       "      <th>tweet_id</th>\n",
       "    </tr>\n",
       "  </thead>\n",
       "  <tbody>\n",
       "    <tr>\n",
       "      <th>0</th>\n",
       "      <td>55</td>\n",
       "      <td>1255263076087185413</td>\n",
       "    </tr>\n",
       "    <tr>\n",
       "      <th>1</th>\n",
       "      <td>55</td>\n",
       "      <td>1254390256461365248</td>\n",
       "    </tr>\n",
       "    <tr>\n",
       "      <th>2</th>\n",
       "      <td>55</td>\n",
       "      <td>1253279600119033856</td>\n",
       "    </tr>\n",
       "    <tr>\n",
       "      <th>3</th>\n",
       "      <td>55</td>\n",
       "      <td>1252271897850544131</td>\n",
       "    </tr>\n",
       "    <tr>\n",
       "      <th>4</th>\n",
       "      <td>55</td>\n",
       "      <td>1251308087467802624</td>\n",
       "    </tr>\n",
       "  </tbody>\n",
       "</table>\n",
       "</div>"
      ],
      "text/plain": [
       "   index             tweet_id\n",
       "0     55  1255263076087185413\n",
       "1     55  1254390256461365248\n",
       "2     55  1253279600119033856\n",
       "3     55  1252271897850544131\n",
       "4     55  1251308087467802624"
      ]
     },
     "execution_count": 12,
     "metadata": {},
     "output_type": "execute_result"
    }
   ],
   "source": [
    "news_fake_tweets_df = pd.read_csv(\"../CoAID/NewsFakeCOVID-19_tweets.csv\")\n",
    "news_fake_tweets_df.head()"
   ]
  },
  {
   "cell_type": "code",
   "execution_count": 13,
   "metadata": {
    "collapsed": true
   },
   "outputs": [
    {
     "data": {
      "text/html": [
       "<div>\n",
       "<style scoped>\n",
       "    .dataframe tbody tr th:only-of-type {\n",
       "        vertical-align: middle;\n",
       "    }\n",
       "\n",
       "    .dataframe tbody tr th {\n",
       "        vertical-align: top;\n",
       "    }\n",
       "\n",
       "    .dataframe thead th {\n",
       "        text-align: right;\n",
       "    }\n",
       "</style>\n",
       "<table border=\"1\" class=\"dataframe\">\n",
       "  <thead>\n",
       "    <tr style=\"text-align: right;\">\n",
       "      <th></th>\n",
       "      <th>news_id</th>\n",
       "      <th>tweet_id</th>\n",
       "      <th>reply_id</th>\n",
       "    </tr>\n",
       "  </thead>\n",
       "  <tbody>\n",
       "    <tr>\n",
       "      <th>0</th>\n",
       "      <td>17</td>\n",
       "      <td>1255484783884369921</td>\n",
       "      <td>1254913226325872642</td>\n",
       "    </tr>\n",
       "    <tr>\n",
       "      <th>1</th>\n",
       "      <td>17</td>\n",
       "      <td>1255484783884369921</td>\n",
       "      <td>1254985211265159169</td>\n",
       "    </tr>\n",
       "    <tr>\n",
       "      <th>2</th>\n",
       "      <td>17</td>\n",
       "      <td>1255484783884369921</td>\n",
       "      <td>1255484999203258370</td>\n",
       "    </tr>\n",
       "    <tr>\n",
       "      <th>3</th>\n",
       "      <td>26</td>\n",
       "      <td>1249534887691984897</td>\n",
       "      <td>1249535327829712898</td>\n",
       "    </tr>\n",
       "    <tr>\n",
       "      <th>4</th>\n",
       "      <td>26</td>\n",
       "      <td>1249534887691984897</td>\n",
       "      <td>1249536037489184769</td>\n",
       "    </tr>\n",
       "  </tbody>\n",
       "</table>\n",
       "</div>"
      ],
      "text/plain": [
       "   news_id             tweet_id             reply_id\n",
       "0       17  1255484783884369921  1254913226325872642\n",
       "1       17  1255484783884369921  1254985211265159169\n",
       "2       17  1255484783884369921  1255484999203258370\n",
       "3       26  1249534887691984897  1249535327829712898\n",
       "4       26  1249534887691984897  1249536037489184769"
      ]
     },
     "execution_count": 13,
     "metadata": {},
     "output_type": "execute_result"
    }
   ],
   "source": [
    "news_fake_replies_df = pd.read_csv(\"../CoAID/NewsFakeCOVID-19_tweets_replies.csv\")\n",
    "news_fake_replies_df.head()"
   ]
  },
  {
   "cell_type": "markdown",
   "metadata": {},
   "source": [
    "As said before, the first column is named _news_id_ also here but the numbering is in the unit range instead of the thousands, so here the name is unique and not misleading."
   ]
  },
  {
   "cell_type": "markdown",
   "metadata": {},
   "source": [
    "<img src=\"./images/Source_fake.png\" alt=\"Source Fake\" width=\"300\" height=\"400\">\n",
    "<img src=\"./images/Tweets_fake.png\" alt=\"Tweets Fake\" width=\"300\" height=\"400\">\n",
    "<img src=\"./images/Replies_fake.png\" alt=\"Replies Fake\" width=\"300\" height=\"400\">"
   ]
  },
  {
   "cell_type": "markdown",
   "metadata": {},
   "source": [
    "As shown in figure, the dataset is really unbalanced in the number of Claim with respect to the News. Till now the focus is on the fake side of the dataset. The number of both not fake news and claims is much higher.\n",
    "\n",
    "**Claim** is a statement originate from a user, so he is described as the **source** of the sentence.\n",
    "\n",
    "**News** is a link to an already published news the user is sharing without being the author, in this sense he acts as a spreader of the news acting like an **intermediate**."
   ]
  },
  {
   "cell_type": "code",
   "execution_count": null,
   "metadata": {},
   "outputs": [],
   "source": []
  }
 ],
 "metadata": {
  "kernelspec": {
   "display_name": "Python 3",
   "language": "python",
   "name": "python3"
  },
  "language_info": {
   "codemirror_mode": {
    "name": "ipython",
    "version": 3
   },
   "file_extension": ".py",
   "mimetype": "text/x-python",
   "name": "python",
   "nbconvert_exporter": "python",
   "pygments_lexer": "ipython3",
   "version": "3.8.2"
  }
 },
 "nbformat": 4,
 "nbformat_minor": 4
}
